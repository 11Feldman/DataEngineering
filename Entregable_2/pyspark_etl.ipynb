{
 "cells": [
  {
   "cell_type": "markdown",
   "id": "a0ae6a6b",
   "metadata": {},
   "source": [
    "## 1) CARGA DE VARIABLES DE ENTORNO Y LIBRERIAS"
   ]
  },
  {
   "cell_type": "code",
   "execution_count": 50,
   "id": "2b8041f0-c750-42c3-8943-515cd0131743",
   "metadata": {
    "tags": []
   },
   "outputs": [],
   "source": [
    "import requests\n",
    "from dotenv import load_dotenv\n",
    "import os\n",
    "import json\n",
    "import psycopg2\n",
    "import pandas as pd\n",
    "\n",
    "load_dotenv()\n",
    "\n",
    "env = os.environ\n"
   ]
  },
  {
   "cell_type": "markdown",
   "id": "3605ae46",
   "metadata": {},
   "source": [
    "## 2) FUNCION DE EXTRACCION DE DATOS"
   ]
  },
  {
   "cell_type": "code",
   "execution_count": 51,
   "id": "697c682c-f3f5-4662-8a63-cd33cd34444b",
   "metadata": {
    "tags": []
   },
   "outputs": [],
   "source": [
    "def extract_data(url):\n",
    "\n",
    "    response = requests.get(url)\n",
    "    resultados = {}\n",
    "    a = 1\n",
    "\n",
    "    if response.status_code == 200:\n",
    "        response_json = json.loads(response.text)\n",
    "        results = response_json['data']['results']\n",
    "                \n",
    "        for i in results:\n",
    "            id_character = i['id']\n",
    "            nombre = i['name']\n",
    "            descripcion = i['description'][0:254]\n",
    "            comic_disponibles = i['comics']['available']\n",
    "            series_disponibles = i['series']['available']\n",
    "            historias_disponibles = i['stories']['available']\n",
    "            modificacion = i['modified']\n",
    "\n",
    "            if descripcion == '':\n",
    "                descripcion = 'Sin descripcion'\n",
    "            \n",
    "            dic = {\n",
    "                'id_character':id_character,\n",
    "                'nombre': nombre,\n",
    "                'descripcion': descripcion,\n",
    "                'cantidad_de_comics': comic_disponibles,\n",
    "                'cantidad_de_series':series_disponibles,\n",
    "                'cantidad_de_historias': historias_disponibles,\n",
    "                'fecha_modificacion': modificacion\n",
    "            }\n",
    "\n",
    "            resultados[f'{a}'] = dic\n",
    "            a = a + 1\n",
    "\n",
    "    # with open('texto.json','w') as file:\n",
    "    #     json.dump(lista,file,indent=4)\n",
    "\n",
    "    return resultados"
   ]
  },
  {
   "cell_type": "code",
   "execution_count": 52,
   "id": "f1dd82f1",
   "metadata": {},
   "outputs": [],
   "source": [
    "# Guardo lo datos en una variable\n",
    "resultados = extract_data(url=env['URL'])"
   ]
  },
  {
   "cell_type": "markdown",
   "id": "7f9d78ac-50eb-4385-80bb-4478be1240d3",
   "metadata": {},
   "source": [
    "## 3) Creo la SparkSession"
   ]
  },
  {
   "cell_type": "code",
   "execution_count": 53,
   "id": "784bd8a8-1f06-4eed-b011-8c6b04b6f5df",
   "metadata": {
    "tags": []
   },
   "outputs": [],
   "source": [
    "# Crear sesion de Spark\n",
    "from pyspark.sql import SparkSession\n",
    "from pyspark.sql.functions import when, lit, col\n",
    "\n",
    "# Postgres and Redshift JDBCs\n",
    "driver_path = env['DRIVER_PATH_JAVA']\n",
    "\n",
    "os.environ['PYSPARK_SUBMIT_ARGS'] = f'--driver-class-path {driver_path} --jars {driver_path} pyspark-shell'\n",
    "os.environ['SPARK_CLASSPATH'] = driver_path\n",
    "\n",
    "# Create SparkSession \n",
    "spark = SparkSession.builder \\\n",
    "        .master(\"local\") \\\n",
    "        .appName(\"Conexion entre Pyspark y Redshift\") \\\n",
    "        .config(\"spark.jars\", driver_path) \\\n",
    "        .config(\"spark.executor.extraClassPath\", driver_path) \\\n",
    "        .getOrCreate()"
   ]
  },
  {
   "cell_type": "code",
   "execution_count": 54,
   "id": "f82b7ea8-81ee-4a17-83e5-0b7a85542b6e",
   "metadata": {
    "tags": []
   },
   "outputs": [],
   "source": [
    "env = os.environ"
   ]
  },
  {
   "cell_type": "markdown",
   "id": "6e5cd853-7e96-4ca9-b4e5-38e2d8da9395",
   "metadata": {},
   "source": [
    "Revisar documentación:\n",
    "* [AWS Redshift + Spark documentation](https://docs.aws.amazon.com/emr/latest/ReleaseGuide/emr-spark-redshift.html)\n",
    "* [Spark + Redshift connector](https://github.com/spark-redshift-community/spark-redshift#readme)"
   ]
  },
  {
   "cell_type": "markdown",
   "id": "6c9d28d2",
   "metadata": {},
   "source": [
    "## 4) ME CONECTO CON AWS VIA PSYCOPG2"
   ]
  },
  {
   "cell_type": "code",
   "execution_count": 55,
   "id": "d6c9313b-f55d-41b6-b0b3-2028781bb352",
   "metadata": {
    "tags": []
   },
   "outputs": [],
   "source": [
    "# Conexion a Redshift usando psycopg2\n",
    "conn = psycopg2.connect(\n",
    "    host=env['AWS_REDSHIFT_HOST'],\n",
    "    port=env['AWS_REDSHIFT_PORT'],\n",
    "    dbname=env['AWS_REDSHIFT_DBNAME'],\n",
    "    user=env['AWS_REDSHIFT_USER'],\n",
    "    password=env['AWS_REDSHIFT_PASSWORD']\n",
    ")"
   ]
  },
  {
   "cell_type": "code",
   "execution_count": 56,
   "id": "43e2fa5a",
   "metadata": {},
   "outputs": [],
   "source": [
    "# query para creacion de tabla\n",
    "schema = env['AWS_REDSHIFT_SCHEMA']\n",
    "\n",
    "query_table = f'''\n",
    "        CREATE TABLE IF NOT EXISTS {schema}.marvelCharacters(\n",
    "            id_character int not null,\n",
    "            nombre varchar(50) not null,\n",
    "            descripcion varchar(255) null,\n",
    "            cantidad_de_comics integer,\n",
    "            cantidad_de_series integer,\n",
    "            cantidad_de_historias integer,\n",
    "            fecha_modificacion date,\n",
    "            fecha_insercion_bd date\n",
    "        )\n",
    "        distkey(id_character)\n",
    "        sortkey(id_character,fecha_insercion_bd);\n",
    "'''"
   ]
  },
  {
   "cell_type": "code",
   "execution_count": 57,
   "id": "09f4ae99-28b8-4deb-8efe-536a4fc924e9",
   "metadata": {},
   "outputs": [
    {
     "name": "stdout",
     "output_type": "stream",
     "text": [
      "Table created!\n"
     ]
    }
   ],
   "source": [
    "# Genero el cursor y luego ejecuto la query para crear la tabla y cierro la conexion\n",
    "cursor = conn.cursor()\n",
    "cursor.execute(query_table)\n",
    "conn.commit()\n",
    "cursor.close()\n",
    "print(\"Table created!\")"
   ]
  },
  {
   "cell_type": "code",
   "execution_count": 58,
   "id": "6f580a6e",
   "metadata": {},
   "outputs": [],
   "source": [
    "# Query para controlar las tablas que tengo creadas en aws\n",
    "query_table_create = f\"\"\"\n",
    "SELECT\n",
    "  distinct tablename\n",
    "FROM\n",
    "  PG_TABLE_DEF\n",
    "WHERE\n",
    "  schemaname = '{env['AWS_REDSHIFT_SCHEMA']}';\n",
    "\"\"\""
   ]
  },
  {
   "cell_type": "code",
   "execution_count": 59,
   "id": "f4fe5a1d-769a-4e42-975c-2391f27326cb",
   "metadata": {
    "tags": []
   },
   "outputs": [
    {
     "name": "stdout",
     "output_type": "stream",
     "text": [
      "exportaciones_cereales, marvelcharacters\n"
     ]
    }
   ],
   "source": [
    "# genero nueva conexion para ver cuantas tablas tengo en mi esquema\n",
    "cursor = conn.cursor()\n",
    "cursor.execute(query_table_create)\n",
    "print(\", \".join(map(lambda x: x[0], cursor.fetchall())))\n",
    "cursor.close()"
   ]
  },
  {
   "cell_type": "markdown",
   "id": "21cb824f",
   "metadata": {},
   "source": [
    "## 5) CREO UN DATAFRAME, VEO SUS CARACTERISTICAS, LO VISUALIZO Y LUEGO INSERTO DATOS."
   ]
  },
  {
   "cell_type": "code",
   "execution_count": 60,
   "id": "5426b03c-0298-4331-a242-9d4c2b55bf5a",
   "metadata": {
    "tags": []
   },
   "outputs": [],
   "source": [
    "# Creo el dataframe con la extraccion para subir los datos a AWS, aprovechando las bondades de pandas.\n",
    "dff = pd.DataFrame.from_dict(resultados,orient='index')\n",
    "df = spark.createDataFrame(dff)"
   ]
  },
  {
   "cell_type": "code",
   "execution_count": 61,
   "id": "9e65938a-dd85-476a-b8d5-44e33227a8e2",
   "metadata": {
    "tags": []
   },
   "outputs": [
    {
     "name": "stdout",
     "output_type": "stream",
     "text": [
      "root\n",
      " |-- id_character: long (nullable = true)\n",
      " |-- nombre: string (nullable = true)\n",
      " |-- descripcion: string (nullable = true)\n",
      " |-- cantidad_de_comics: long (nullable = true)\n",
      " |-- cantidad_de_series: long (nullable = true)\n",
      " |-- cantidad_de_historias: long (nullable = true)\n",
      " |-- fecha_modificacion: string (nullable = true)\n",
      "\n"
     ]
    },
    {
     "name": "stdout",
     "output_type": "stream",
     "text": [
      "+------------+--------------------+--------------------+------------------+------------------+---------------------+--------------------+\n",
      "|id_character|              nombre|         descripcion|cantidad_de_comics|cantidad_de_series|cantidad_de_historias|  fecha_modificacion|\n",
      "+------------+--------------------+--------------------+------------------+------------------+---------------------+--------------------+\n",
      "|     1011334|             3-D Man|     Sin descripcion|                12|                 3|                   21|2014-04-29T14:18:...|\n",
      "|     1017100|        A-Bomb (HAS)|Rick Jones has be...|                 4|                 2|                    7|2013-09-18T15:54:...|\n",
      "|     1009144|              A.I.M.|AIM is a terroris...|                53|                36|                   57|2013-10-17T14:41:...|\n",
      "|     1010699|         Aaron Stack|     Sin descripcion|                14|                 3|                   27|1969-12-31T19:00:...|\n",
      "|     1009146|Abomination (Emil...|Formerly known as...|                55|                27|                   65|2012-03-20T12:32:...|\n",
      "|     1016823|Abomination (Ulti...|     Sin descripcion|                 2|                 2|                    3|2012-07-10T19:11:...|\n",
      "|     1009148|       Absorbing Man|     Sin descripcion|                97|                48|                  109|2013-10-24T14:32:...|\n",
      "|     1009149|               Abyss|     Sin descripcion|                 8|                 3|                    8|2014-04-29T14:10:...|\n",
      "|     1010903|Abyss (Age of Apo...|     Sin descripcion|                 3|                 3|                    2|1969-12-31T19:00:...|\n",
      "|     1011266|        Adam Destine|     Sin descripcion|                 0|                 0|                    0|1969-12-31T19:00:...|\n",
      "|     1010354|        Adam Warlock|Adam Warlock is a...|               195|                87|                  224|2013-08-07T13:49:...|\n",
      "|     1010846|Aegis (Trey Rollins)|     Sin descripcion|                 0|                 0|                    0|1969-12-31T19:00:...|\n",
      "|     1017851|         Aero (Aero)|     Sin descripcion|                29|                 5|                   29|2021-08-27T17:52:...|\n",
      "|     1012717|     Agatha Harkness|     Sin descripcion|                21|                10|                   26|2021-08-06T11:30:...|\n",
      "|     1011297|         Agent Brand|     Sin descripcion|                30|                 7|                   34|2013-10-24T13:09:...|\n",
      "|     1011031|      Agent X (Nijo)|Originally a part...|                18|                 3|                   23|1969-12-31T19:00:...|\n",
      "|     1009150|          Agent Zero|     Sin descripcion|                29|                10|                   31|1969-12-31T19:00:...|\n",
      "|     1011198|     Agents of Atlas|     Sin descripcion|                45|                13|                   52|2016-02-03T10:25:...|\n",
      "|     1011175|              Aginar|     Sin descripcion|                 0|                 0|                    0|1969-12-31T19:00:...|\n",
      "|     1011136|Air-Walker (Gabri...|     Sin descripcion|                 4|                 3|                    3|1969-12-31T19:00:...|\n",
      "+------------+--------------------+--------------------+------------------+------------------+---------------------+--------------------+\n",
      "\n"
     ]
    }
   ],
   "source": [
    "# veo como estan las tablas y sus tipos de datos.\n",
    "df.printSchema()\n",
    "# visualizo la tabla\n",
    "df.show()"
   ]
  },
  {
   "cell_type": "code",
   "execution_count": 62,
   "id": "846c31de-8995-45de-87ff-9f573852e8a4",
   "metadata": {},
   "outputs": [
    {
     "name": "stderr",
     "output_type": "stream",
     "text": [
      "23/07/16 18:38:02 WARN PgConnection: Unsupported Server Version: 8.0.2\n",
      "23/07/16 18:38:05 WARN PgConnection: Unsupported Server Version: 8.0.2 + 1) / 1]\n",
      "23/07/16 18:38:07 WARN PgConnection: Unsupported Server Version: 8.0.2          \n"
     ]
    }
   ],
   "source": [
    "# Cargo los datos en la tabla\n",
    "df.write \\\n",
    "    .format(\"jdbc\") \\\n",
    "    .option(\"url\", f\"jdbc:postgresql://{env['AWS_REDSHIFT_HOST']}:{env['AWS_REDSHIFT_PORT']}/{env['AWS_REDSHIFT_DBNAME']}\") \\\n",
    "    .option(\"dbtable\", f\"{env['AWS_REDSHIFT_SCHEMA']}.marvelCharacters\") \\\n",
    "    .option(\"user\", env['AWS_REDSHIFT_USER']) \\\n",
    "    .option(\"password\", env['AWS_REDSHIFT_PASSWORD']) \\\n",
    "    .option(\"driver\", \"org.postgresql.Driver\") \\\n",
    "    .mode(\"overwrite\") \\\n",
    "    .save()"
   ]
  },
  {
   "cell_type": "code",
   "execution_count": 63,
   "id": "e42cca47-336f-4870-a528-b1c56d7c64b2",
   "metadata": {},
   "outputs": [
    {
     "name": "stderr",
     "output_type": "stream",
     "text": [
      "23/07/16 18:38:09 WARN PgConnection: Unsupported Server Version: 8.0.2\n"
     ]
    }
   ],
   "source": [
    "# Query Redshift using Spark SQL\n",
    "query = f\"select * from {env['AWS_REDSHIFT_SCHEMA']}.marvelCharacters\"\n",
    "data = spark.read \\\n",
    "    .format(\"jdbc\") \\\n",
    "    .option(\"url\", f\"jdbc:postgresql://{env['AWS_REDSHIFT_HOST']}:{env['AWS_REDSHIFT_PORT']}/{env['AWS_REDSHIFT_DBNAME']}\") \\\n",
    "    .option(\"dbtable\", f\"({query}) as tmp_table\") \\\n",
    "    .option(\"user\", env['AWS_REDSHIFT_USER']) \\\n",
    "    .option(\"password\", env['AWS_REDSHIFT_PASSWORD']) \\\n",
    "    .option(\"driver\", \"org.postgresql.Driver\") \\\n",
    "    .load()"
   ]
  },
  {
   "cell_type": "code",
   "execution_count": 64,
   "id": "f23e27db-346e-4905-8848-8179409a9139",
   "metadata": {
    "tags": []
   },
   "outputs": [
    {
     "name": "stdout",
     "output_type": "stream",
     "text": [
      "root\n",
      " |-- id_character: long (nullable = true)\n",
      " |-- nombre: string (nullable = true)\n",
      " |-- descripcion: string (nullable = true)\n",
      " |-- cantidad_de_comics: long (nullable = true)\n",
      " |-- cantidad_de_series: long (nullable = true)\n",
      " |-- cantidad_de_historias: long (nullable = true)\n",
      " |-- fecha_modificacion: string (nullable = true)\n",
      "\n"
     ]
    },
    {
     "name": "stderr",
     "output_type": "stream",
     "text": [
      "23/07/16 18:38:10 WARN PgConnection: Unsupported Server Version: 8.0.2 + 1) / 1]\n"
     ]
    },
    {
     "name": "stdout",
     "output_type": "stream",
     "text": [
      "+------------+--------------------+--------------------+------------------+------------------+---------------------+--------------------+\n",
      "|id_character|              nombre|         descripcion|cantidad_de_comics|cantidad_de_series|cantidad_de_historias|  fecha_modificacion|\n",
      "+------------+--------------------+--------------------+------------------+------------------+---------------------+--------------------+\n",
      "|     1011334|             3-D Man|     Sin descripcion|                12|                 3|                   21|2014-04-29T14:18:...|\n",
      "|     1017100|        A-Bomb (HAS)|Rick Jones has be...|                 4|                 2|                    7|2013-09-18T15:54:...|\n",
      "|     1009144|              A.I.M.|AIM is a terroris...|                53|                36|                   57|2013-10-17T14:41:...|\n",
      "|     1010699|         Aaron Stack|     Sin descripcion|                14|                 3|                   27|1969-12-31T19:00:...|\n",
      "|     1009146|Abomination (Emil...|Formerly known as...|                55|                27|                   65|2012-03-20T12:32:...|\n",
      "|     1016823|Abomination (Ulti...|     Sin descripcion|                 2|                 2|                    3|2012-07-10T19:11:...|\n",
      "|     1009148|       Absorbing Man|     Sin descripcion|                97|                48|                  109|2013-10-24T14:32:...|\n",
      "|     1009149|               Abyss|     Sin descripcion|                 8|                 3|                    8|2014-04-29T14:10:...|\n",
      "|     1010903|Abyss (Age of Apo...|     Sin descripcion|                 3|                 3|                    2|1969-12-31T19:00:...|\n",
      "|     1011266|        Adam Destine|     Sin descripcion|                 0|                 0|                    0|1969-12-31T19:00:...|\n",
      "|     1010354|        Adam Warlock|Adam Warlock is a...|               195|                87|                  224|2013-08-07T13:49:...|\n",
      "|     1010846|Aegis (Trey Rollins)|     Sin descripcion|                 0|                 0|                    0|1969-12-31T19:00:...|\n",
      "|     1017851|         Aero (Aero)|     Sin descripcion|                29|                 5|                   29|2021-08-27T17:52:...|\n",
      "|     1012717|     Agatha Harkness|     Sin descripcion|                21|                10|                   26|2021-08-06T11:30:...|\n",
      "|     1011297|         Agent Brand|     Sin descripcion|                30|                 7|                   34|2013-10-24T13:09:...|\n",
      "|     1011031|      Agent X (Nijo)|Originally a part...|                18|                 3|                   23|1969-12-31T19:00:...|\n",
      "|     1009150|          Agent Zero|     Sin descripcion|                29|                10|                   31|1969-12-31T19:00:...|\n",
      "|     1011198|     Agents of Atlas|     Sin descripcion|                45|                13|                   52|2016-02-03T10:25:...|\n",
      "|     1011175|              Aginar|     Sin descripcion|                 0|                 0|                    0|1969-12-31T19:00:...|\n",
      "|     1011136|Air-Walker (Gabri...|     Sin descripcion|                 4|                 3|                    3|1969-12-31T19:00:...|\n",
      "+------------+--------------------+--------------------+------------------+------------------+---------------------+--------------------+\n",
      "\n"
     ]
    },
    {
     "name": "stderr",
     "output_type": "stream",
     "text": [
      "                                                                                \r"
     ]
    }
   ],
   "source": [
    "data.printSchema()\n",
    "data.show()"
   ]
  },
  {
   "cell_type": "markdown",
   "id": "31fff3c5",
   "metadata": {},
   "source": [
    "## 6) CIERRE DE CONEXION"
   ]
  },
  {
   "cell_type": "code",
   "execution_count": 65,
   "id": "311a75ef-818b-4b8d-9f48-43e62ca2f806",
   "metadata": {},
   "outputs": [],
   "source": [
    "cursor.close()"
   ]
  }
 ],
 "metadata": {
  "kernelspec": {
   "display_name": "Python 3 (ipykernel)",
   "language": "python",
   "name": "python3"
  },
  "language_info": {
   "codemirror_mode": {
    "name": "ipython",
    "version": 3
   },
   "file_extension": ".py",
   "mimetype": "text/x-python",
   "name": "python",
   "nbconvert_exporter": "python",
   "pygments_lexer": "ipython3",
   "version": "3.10.6"
  }
 },
 "nbformat": 4,
 "nbformat_minor": 5
}
