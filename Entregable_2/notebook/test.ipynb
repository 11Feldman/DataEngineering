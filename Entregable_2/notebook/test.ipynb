{
 "cells": [
  {
   "cell_type": "code",
   "execution_count": 1,
   "metadata": {},
   "outputs": [],
   "source": [
    "import pandas as pd\n",
    "from datetime import datetime as dt"
   ]
  },
  {
   "cell_type": "code",
   "execution_count": 2,
   "metadata": {},
   "outputs": [],
   "source": [
    "ruta = './texto.json'"
   ]
  },
  {
   "cell_type": "code",
   "execution_count": 3,
   "metadata": {},
   "outputs": [
    {
     "ename": "ValueError",
     "evalue": "Expected object or value",
     "output_type": "error",
     "traceback": [
      "\u001b[0;31m---------------------------------------------------------------------------\u001b[0m",
      "\u001b[0;31mValueError\u001b[0m                                Traceback (most recent call last)",
      "\u001b[1;32m/home/ari/Documentos/GitHub/DataEngineering/Entregable_2/notebook/test.ipynb Celda 3\u001b[0m in \u001b[0;36m<cell line: 1>\u001b[0;34m()\u001b[0m\n\u001b[0;32m----> <a href='vscode-notebook-cell:/home/ari/Documentos/GitHub/DataEngineering/Entregable_2/notebook/test.ipynb#X10sZmlsZQ%3D%3D?line=0'>1</a>\u001b[0m df \u001b[39m=\u001b[39m pd\u001b[39m.\u001b[39;49mread_json(ruta,orient\u001b[39m=\u001b[39;49m\u001b[39m'\u001b[39;49m\u001b[39mindex\u001b[39;49m\u001b[39m'\u001b[39;49m)\n",
      "File \u001b[0;32m~/.local/lib/python3.10/site-packages/pandas/util/_decorators.py:207\u001b[0m, in \u001b[0;36mdeprecate_kwarg.<locals>._deprecate_kwarg.<locals>.wrapper\u001b[0;34m(*args, **kwargs)\u001b[0m\n\u001b[1;32m    205\u001b[0m     \u001b[39melse\u001b[39;00m:\n\u001b[1;32m    206\u001b[0m         kwargs[new_arg_name] \u001b[39m=\u001b[39m new_arg_value\n\u001b[0;32m--> 207\u001b[0m \u001b[39mreturn\u001b[39;00m func(\u001b[39m*\u001b[39;49margs, \u001b[39m*\u001b[39;49m\u001b[39m*\u001b[39;49mkwargs)\n",
      "File \u001b[0;32m~/.local/lib/python3.10/site-packages/pandas/util/_decorators.py:311\u001b[0m, in \u001b[0;36mdeprecate_nonkeyword_arguments.<locals>.decorate.<locals>.wrapper\u001b[0;34m(*args, **kwargs)\u001b[0m\n\u001b[1;32m    305\u001b[0m \u001b[39mif\u001b[39;00m \u001b[39mlen\u001b[39m(args) \u001b[39m>\u001b[39m num_allow_args:\n\u001b[1;32m    306\u001b[0m     warnings\u001b[39m.\u001b[39mwarn(\n\u001b[1;32m    307\u001b[0m         msg\u001b[39m.\u001b[39mformat(arguments\u001b[39m=\u001b[39marguments),\n\u001b[1;32m    308\u001b[0m         \u001b[39mFutureWarning\u001b[39;00m,\n\u001b[1;32m    309\u001b[0m         stacklevel\u001b[39m=\u001b[39mstacklevel,\n\u001b[1;32m    310\u001b[0m     )\n\u001b[0;32m--> 311\u001b[0m \u001b[39mreturn\u001b[39;00m func(\u001b[39m*\u001b[39;49margs, \u001b[39m*\u001b[39;49m\u001b[39m*\u001b[39;49mkwargs)\n",
      "File \u001b[0;32m~/.local/lib/python3.10/site-packages/pandas/io/json/_json.py:612\u001b[0m, in \u001b[0;36mread_json\u001b[0;34m(path_or_buf, orient, typ, dtype, convert_axes, convert_dates, keep_default_dates, numpy, precise_float, date_unit, encoding, encoding_errors, lines, chunksize, compression, nrows, storage_options)\u001b[0m\n\u001b[1;32m    609\u001b[0m     \u001b[39mreturn\u001b[39;00m json_reader\n\u001b[1;32m    611\u001b[0m \u001b[39mwith\u001b[39;00m json_reader:\n\u001b[0;32m--> 612\u001b[0m     \u001b[39mreturn\u001b[39;00m json_reader\u001b[39m.\u001b[39;49mread()\n",
      "File \u001b[0;32m~/.local/lib/python3.10/site-packages/pandas/io/json/_json.py:746\u001b[0m, in \u001b[0;36mJsonReader.read\u001b[0;34m(self)\u001b[0m\n\u001b[1;32m    744\u001b[0m         obj \u001b[39m=\u001b[39m \u001b[39mself\u001b[39m\u001b[39m.\u001b[39m_get_object_parser(\u001b[39mself\u001b[39m\u001b[39m.\u001b[39m_combine_lines(data_lines))\n\u001b[1;32m    745\u001b[0m \u001b[39melse\u001b[39;00m:\n\u001b[0;32m--> 746\u001b[0m     obj \u001b[39m=\u001b[39m \u001b[39mself\u001b[39;49m\u001b[39m.\u001b[39;49m_get_object_parser(\u001b[39mself\u001b[39;49m\u001b[39m.\u001b[39;49mdata)\n\u001b[1;32m    747\u001b[0m \u001b[39mself\u001b[39m\u001b[39m.\u001b[39mclose()\n\u001b[1;32m    748\u001b[0m \u001b[39mreturn\u001b[39;00m obj\n",
      "File \u001b[0;32m~/.local/lib/python3.10/site-packages/pandas/io/json/_json.py:768\u001b[0m, in \u001b[0;36mJsonReader._get_object_parser\u001b[0;34m(self, json)\u001b[0m\n\u001b[1;32m    766\u001b[0m obj \u001b[39m=\u001b[39m \u001b[39mNone\u001b[39;00m\n\u001b[1;32m    767\u001b[0m \u001b[39mif\u001b[39;00m typ \u001b[39m==\u001b[39m \u001b[39m\"\u001b[39m\u001b[39mframe\u001b[39m\u001b[39m\"\u001b[39m:\n\u001b[0;32m--> 768\u001b[0m     obj \u001b[39m=\u001b[39m FrameParser(json, \u001b[39m*\u001b[39;49m\u001b[39m*\u001b[39;49mkwargs)\u001b[39m.\u001b[39;49mparse()\n\u001b[1;32m    770\u001b[0m \u001b[39mif\u001b[39;00m typ \u001b[39m==\u001b[39m \u001b[39m\"\u001b[39m\u001b[39mseries\u001b[39m\u001b[39m\"\u001b[39m \u001b[39mor\u001b[39;00m obj \u001b[39mis\u001b[39;00m \u001b[39mNone\u001b[39;00m:\n\u001b[1;32m    771\u001b[0m     \u001b[39mif\u001b[39;00m \u001b[39mnot\u001b[39;00m \u001b[39misinstance\u001b[39m(dtype, \u001b[39mbool\u001b[39m):\n",
      "File \u001b[0;32m~/.local/lib/python3.10/site-packages/pandas/io/json/_json.py:880\u001b[0m, in \u001b[0;36mParser.parse\u001b[0;34m(self)\u001b[0m\n\u001b[1;32m    878\u001b[0m     \u001b[39mself\u001b[39m\u001b[39m.\u001b[39m_parse_numpy()\n\u001b[1;32m    879\u001b[0m \u001b[39melse\u001b[39;00m:\n\u001b[0;32m--> 880\u001b[0m     \u001b[39mself\u001b[39;49m\u001b[39m.\u001b[39;49m_parse_no_numpy()\n\u001b[1;32m    882\u001b[0m \u001b[39mif\u001b[39;00m \u001b[39mself\u001b[39m\u001b[39m.\u001b[39mobj \u001b[39mis\u001b[39;00m \u001b[39mNone\u001b[39;00m:\n\u001b[1;32m    883\u001b[0m     \u001b[39mreturn\u001b[39;00m \u001b[39mNone\u001b[39;00m\n",
      "File \u001b[0;32m~/.local/lib/python3.10/site-packages/pandas/io/json/_json.py:1144\u001b[0m, in \u001b[0;36mFrameParser._parse_no_numpy\u001b[0;34m(self)\u001b[0m\n\u001b[1;32m   1141\u001b[0m     \u001b[39mself\u001b[39m\u001b[39m.\u001b[39mobj \u001b[39m=\u001b[39m DataFrame(dtype\u001b[39m=\u001b[39m\u001b[39mNone\u001b[39;00m, \u001b[39m*\u001b[39m\u001b[39m*\u001b[39mdecoded)\n\u001b[1;32m   1142\u001b[0m \u001b[39melif\u001b[39;00m orient \u001b[39m==\u001b[39m \u001b[39m\"\u001b[39m\u001b[39mindex\u001b[39m\u001b[39m\"\u001b[39m:\n\u001b[1;32m   1143\u001b[0m     \u001b[39mself\u001b[39m\u001b[39m.\u001b[39mobj \u001b[39m=\u001b[39m DataFrame\u001b[39m.\u001b[39mfrom_dict(\n\u001b[0;32m-> 1144\u001b[0m         loads(json, precise_float\u001b[39m=\u001b[39;49m\u001b[39mself\u001b[39;49m\u001b[39m.\u001b[39;49mprecise_float),\n\u001b[1;32m   1145\u001b[0m         dtype\u001b[39m=\u001b[39m\u001b[39mNone\u001b[39;00m,\n\u001b[1;32m   1146\u001b[0m         orient\u001b[39m=\u001b[39m\u001b[39m\"\u001b[39m\u001b[39mindex\u001b[39m\u001b[39m\"\u001b[39m,\n\u001b[1;32m   1147\u001b[0m     )\n\u001b[1;32m   1148\u001b[0m \u001b[39melif\u001b[39;00m orient \u001b[39m==\u001b[39m \u001b[39m\"\u001b[39m\u001b[39mtable\u001b[39m\u001b[39m\"\u001b[39m:\n\u001b[1;32m   1149\u001b[0m     \u001b[39mself\u001b[39m\u001b[39m.\u001b[39mobj \u001b[39m=\u001b[39m parse_table_schema(json, precise_float\u001b[39m=\u001b[39m\u001b[39mself\u001b[39m\u001b[39m.\u001b[39mprecise_float)\n",
      "\u001b[0;31mValueError\u001b[0m: Expected object or value"
     ]
    }
   ],
   "source": [
    "df = pd.read_json(ruta,orient='index')"
   ]
  },
  {
   "cell_type": "code",
   "execution_count": null,
   "metadata": {},
   "outputs": [
    {
     "name": "stdout",
     "output_type": "stream",
     "text": [
      "INSERT INTO arielmfeldman_coderhouse.marvelcharacters (\"id_character\",\"nombre\",\"descripcion\",\"cantidad_de_comics\",\"cantidad_de_series\",\"cantidad_de_historias\",\"fecha_modificacion\") VALUES(1011334,'3-D Man','Sin descripcion', 12, 3, 21, '2014-04-29')\n",
      "INSERT INTO arielmfeldman_coderhouse.marvelcharacters (\"id_character\",\"nombre\",\"descripcion\",\"cantidad_de_comics\",\"cantidad_de_series\",\"cantidad_de_historias\",\"fecha_modificacion\") VALUES(1017100,'A-Bomb (HAS)','Rick Jones has been Hulks best bud since day one, but now hes more than a friend...hes a teammate! Transformed by a Gamma energy explosion, A-Bombs thick, armored skin is just as strong and powerful as it is blue. And when he curls into action, he us', 4, 2, 7, '2013-09-18')\n",
      "INSERT INTO arielmfeldman_coderhouse.marvelcharacters (\"id_character\",\"nombre\",\"descripcion\",\"cantidad_de_comics\",\"cantidad_de_series\",\"cantidad_de_historias\",\"fecha_modificacion\") VALUES(1009144,'A.I.M.','AIM is a terrorist organization bent on destroying the world.', 53, 36, 57, '2013-10-17')\n",
      "INSERT INTO arielmfeldman_coderhouse.marvelcharacters (\"id_character\",\"nombre\",\"descripcion\",\"cantidad_de_comics\",\"cantidad_de_series\",\"cantidad_de_historias\",\"fecha_modificacion\") VALUES(1010699,'Aaron Stack','Sin descripcion', 14, 3, 27, '1969-12-31')\n",
      "INSERT INTO arielmfeldman_coderhouse.marvelcharacters (\"id_character\",\"nombre\",\"descripcion\",\"cantidad_de_comics\",\"cantidad_de_series\",\"cantidad_de_historias\",\"fecha_modificacion\") VALUES(1009146,'Abomination (Emil Blonsky)','Formerly known as Emil Blonsky, a spy of Soviet Yugoslavian origin working for the KGB, the Abomination gained his powers after receiving a dose of gamma radiation similar to that which transformed Bruce Banner into the incredible Hulk.', 55, 27, 65, '2012-03-20')\n",
      "INSERT INTO arielmfeldman_coderhouse.marvelcharacters (\"id_character\",\"nombre\",\"descripcion\",\"cantidad_de_comics\",\"cantidad_de_series\",\"cantidad_de_historias\",\"fecha_modificacion\") VALUES(1016823,'Abomination (Ultimate)','Sin descripcion', 2, 2, 3, '2012-07-10')\n",
      "INSERT INTO arielmfeldman_coderhouse.marvelcharacters (\"id_character\",\"nombre\",\"descripcion\",\"cantidad_de_comics\",\"cantidad_de_series\",\"cantidad_de_historias\",\"fecha_modificacion\") VALUES(1009148,'Absorbing Man','Sin descripcion', 97, 48, 109, '2013-10-24')\n",
      "INSERT INTO arielmfeldman_coderhouse.marvelcharacters (\"id_character\",\"nombre\",\"descripcion\",\"cantidad_de_comics\",\"cantidad_de_series\",\"cantidad_de_historias\",\"fecha_modificacion\") VALUES(1009149,'Abyss','Sin descripcion', 8, 3, 8, '2014-04-29')\n",
      "INSERT INTO arielmfeldman_coderhouse.marvelcharacters (\"id_character\",\"nombre\",\"descripcion\",\"cantidad_de_comics\",\"cantidad_de_series\",\"cantidad_de_historias\",\"fecha_modificacion\") VALUES(1010903,'Abyss (Age of Apocalypse)','Sin descripcion', 3, 3, 2, '1969-12-31')\n",
      "INSERT INTO arielmfeldman_coderhouse.marvelcharacters (\"id_character\",\"nombre\",\"descripcion\",\"cantidad_de_comics\",\"cantidad_de_series\",\"cantidad_de_historias\",\"fecha_modificacion\") VALUES(1011266,'Adam Destine','Sin descripcion', 0, 0, 0, '1969-12-31')\n",
      "INSERT INTO arielmfeldman_coderhouse.marvelcharacters (\"id_character\",\"nombre\",\"descripcion\",\"cantidad_de_comics\",\"cantidad_de_series\",\"cantidad_de_historias\",\"fecha_modificacion\") VALUES(1010354,'Adam Warlock','Adam Warlock is an artificially created human who was born in a cocoon at a scientific complex called The Beehive.', 195, 87, 224, '2013-08-07')\n",
      "INSERT INTO arielmfeldman_coderhouse.marvelcharacters (\"id_character\",\"nombre\",\"descripcion\",\"cantidad_de_comics\",\"cantidad_de_series\",\"cantidad_de_historias\",\"fecha_modificacion\") VALUES(1010846,'Aegis (Trey Rollins)','Sin descripcion', 0, 0, 0, '1969-12-31')\n",
      "INSERT INTO arielmfeldman_coderhouse.marvelcharacters (\"id_character\",\"nombre\",\"descripcion\",\"cantidad_de_comics\",\"cantidad_de_series\",\"cantidad_de_historias\",\"fecha_modificacion\") VALUES(1017851,'Aero (Aero)','Sin descripcion', 29, 5, 29, '2021-08-27')\n",
      "INSERT INTO arielmfeldman_coderhouse.marvelcharacters (\"id_character\",\"nombre\",\"descripcion\",\"cantidad_de_comics\",\"cantidad_de_series\",\"cantidad_de_historias\",\"fecha_modificacion\") VALUES(1012717,'Agatha Harkness','Sin descripcion', 21, 10, 26, '2021-08-06')\n",
      "INSERT INTO arielmfeldman_coderhouse.marvelcharacters (\"id_character\",\"nombre\",\"descripcion\",\"cantidad_de_comics\",\"cantidad_de_series\",\"cantidad_de_historias\",\"fecha_modificacion\") VALUES(1011297,'Agent Brand','Sin descripcion', 30, 7, 34, '2013-10-24')\n",
      "INSERT INTO arielmfeldman_coderhouse.marvelcharacters (\"id_character\",\"nombre\",\"descripcion\",\"cantidad_de_comics\",\"cantidad_de_series\",\"cantidad_de_historias\",\"fecha_modificacion\") VALUES(1011031,'Agent X (Nijo)','Originally a partner of the mind-altering assassin Black Swan, Nijo spied on Deadpool as part of the Swans plan to exact revenge for Deadpool falsely taking credit for the Swans assassination of the Four Winds crime family, which included Nijos brothe', 18, 3, 23, '1969-12-31')\n",
      "INSERT INTO arielmfeldman_coderhouse.marvelcharacters (\"id_character\",\"nombre\",\"descripcion\",\"cantidad_de_comics\",\"cantidad_de_series\",\"cantidad_de_historias\",\"fecha_modificacion\") VALUES(1009150,'Agent Zero','Sin descripcion', 29, 10, 31, '1969-12-31')\n",
      "INSERT INTO arielmfeldman_coderhouse.marvelcharacters (\"id_character\",\"nombre\",\"descripcion\",\"cantidad_de_comics\",\"cantidad_de_series\",\"cantidad_de_historias\",\"fecha_modificacion\") VALUES(1011198,'Agents of Atlas','Sin descripcion', 45, 13, 52, '2016-02-03')\n",
      "INSERT INTO arielmfeldman_coderhouse.marvelcharacters (\"id_character\",\"nombre\",\"descripcion\",\"cantidad_de_comics\",\"cantidad_de_series\",\"cantidad_de_historias\",\"fecha_modificacion\") VALUES(1011175,'Aginar','Sin descripcion', 0, 0, 0, '1969-12-31')\n",
      "INSERT INTO arielmfeldman_coderhouse.marvelcharacters (\"id_character\",\"nombre\",\"descripcion\",\"cantidad_de_comics\",\"cantidad_de_series\",\"cantidad_de_historias\",\"fecha_modificacion\") VALUES(1011136,'Air-Walker (Gabriel Lan)','Sin descripcion', 4, 3, 3, '1969-12-31')\n"
     ]
    }
   ],
   "source": [
    "name_colum = '\",\"'.join([str(i) for i in df.columns.tolist()])\n",
    "\n",
    "schema = 'arielmfeldman_coderhouse'\n",
    "\n",
    "for i,row in df.iterrows():\n",
    "\n",
    "        id_character =int(row['id_character'])\n",
    "        nombre =row['nombre']\n",
    "        descripcion =str(row['descripcion'][0:254]).replace(\"'\",\"\")\n",
    "        cantidad_de_comics = row['cantidad_de_comics']\n",
    "        cantidad_de_series = row['cantidad_de_series']\n",
    "        cantidad_de_historias = row['cantidad_de_historias']\n",
    "        fecha_modificacion = row['fecha_modificacion'][0:10]\n",
    "        \n",
    "\n",
    "\n",
    "        insert = f'INSERT INTO {schema}.marvelcharacters (\"' +name_colum + '\") '\n",
    "        values = f\"VALUES({id_character},'{nombre}','{descripcion}', {cantidad_de_comics}, {cantidad_de_series}, {cantidad_de_historias}, '{fecha_modificacion}')\"\n",
    "\n",
    "        print(insert+values)\n",
    "        "
   ]
  },
  {
   "cell_type": "code",
   "execution_count": null,
   "metadata": {},
   "outputs": [],
   "source": []
  }
 ],
 "metadata": {
  "kernelspec": {
   "display_name": "Python 3",
   "language": "python",
   "name": "python3"
  },
  "language_info": {
   "codemirror_mode": {
    "name": "ipython",
    "version": 3
   },
   "file_extension": ".py",
   "mimetype": "text/x-python",
   "name": "python",
   "nbconvert_exporter": "python",
   "pygments_lexer": "ipython3",
   "version": "3.10.6"
  },
  "orig_nbformat": 4
 },
 "nbformat": 4,
 "nbformat_minor": 2
}
